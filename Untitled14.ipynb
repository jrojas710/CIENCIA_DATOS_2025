{
  "nbformat": 4,
  "nbformat_minor": 0,
  "metadata": {
    "colab": {
      "provenance": []
    },
    "kernelspec": {
      "name": "python3",
      "display_name": "Python 3"
    },
    "language_info": {
      "name": "python"
    }
  },
  "cells": [
    {
      "cell_type": "markdown",
      "source": [
        "#Prueba de valoración\n",
        "Se realizará una prueba de aptitud de programación\n",
        "Para esto se tendrá en cuenta lo siguiente\n",
        "\n",
        "* La prueba durará 2 horas.\n",
        "* El estudiante deberá intentar desarrollar cada punto.\n",
        "* En caso de no recordar qué hacer, el estudiante deberá escribir con algoritmia"
      ],
      "metadata": {
        "id": "esWZuxk3u3mj"
      }
    },
    {
      "cell_type": "markdown",
      "source": [
        "##Estructuras de selección\n",
        "La estructura de selección en python, se declara con la palabra if, y se emplea de la siguiente forma:\n",
        "\n",
        "```\n",
        "if (condicion):\n",
        "  Si se cumple, aquí suceden cosas\n",
        "else:\n",
        "  Si no se cumple, aqui suceden cosas\n",
        "```"
      ],
      "metadata": {
        "id": "BcMDBtKvvO9Z"
      }
    },
    {
      "cell_type": "markdown",
      "source": [
        "###si"
      ],
      "metadata": {
        "id": "zrQxjT7ZvbAx"
      }
    },
    {
      "cell_type": "code",
      "source": [],
      "metadata": {
        "id": "jkhy-9mcvcn5"
      },
      "execution_count": null,
      "outputs": []
    }
  ]
}