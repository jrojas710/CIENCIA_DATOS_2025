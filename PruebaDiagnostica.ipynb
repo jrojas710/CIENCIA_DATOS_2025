{
  "nbformat": 4,
  "nbformat_minor": 0,
  "metadata": {
    "colab": {
      "provenance": [],
      "authorship_tag": "ABX9TyNnnWobiSyakitcrtQrxcDq",
      "include_colab_link": true
    },
    "kernelspec": {
      "name": "python3",
      "display_name": "Python 3"
    },
    "language_info": {
      "name": "python"
    }
  },
  "cells": [
    {
      "cell_type": "markdown",
      "metadata": {
        "id": "view-in-github",
        "colab_type": "text"
      },
      "source": [
        "<a href=\"https://colab.research.google.com/github/jrojas710/CIENCIA_DATOS_2025/blob/main/PruebaDiagnostica.ipynb\" target=\"_parent\"><img src=\"https://colab.research.google.com/assets/colab-badge.svg\" alt=\"Open In Colab\"/></a>"
      ]
    },
    {
      "cell_type": "markdown",
      "source": [
        "# Parte 1: Estructuras de Decision (10 ejercicios)"
      ],
      "metadata": {
        "id": "T-YgYQDQmhEr"
      }
    },
    {
      "cell_type": "code",
      "source": [
        "# Escriba un programa que reciba un numero e indique si es positivo\n",
        "\n",
        "numero = int(input(\"Ingrese un numero: \"))\n",
        "\n",
        "if numero > 0:\n",
        "    print(\"El numero es positivo\")\n",
        "else:\n",
        "    print(\"El numero es negativo\")"
      ],
      "metadata": {
        "colab": {
          "base_uri": "https://localhost:8080/"
        },
        "id": "JtlbsVNHmi28",
        "outputId": "b6695cdf-cf86-407b-c4d5-8f47acf35bb4"
      },
      "execution_count": 9,
      "outputs": [
        {
          "output_type": "stream",
          "name": "stdout",
          "text": [
            "Ingrese un numero: 3\n",
            "El numero es positivo\n"
          ]
        }
      ]
    },
    {
      "cell_type": "code",
      "source": [
        "# Escribe un programa que reciba una edad y determine si la persona es mayor de edad\n",
        "\n",
        "edad = int(input(\"Ingrese su edad: \"))\n",
        "\n",
        "if edad >= 18:\n",
        "    print(\"Es mayor de edad\")\n",
        "else:\n",
        "    print(\"Es menor de edad\")"
      ],
      "metadata": {
        "colab": {
          "base_uri": "https://localhost:8080/"
        },
        "id": "7xF8Dk6tmoz_",
        "outputId": "4f681877-a0fa-4f32-dbd9-6aec1c490e63"
      },
      "execution_count": 10,
      "outputs": [
        {
          "output_type": "stream",
          "name": "stdout",
          "text": [
            "Ingrese su edad: 3\n",
            "Es menor de edad\n"
          ]
        }
      ]
    },
    {
      "cell_type": "code",
      "source": [
        "# Escribe un programa que reciba dos numeros e imprima el mayor\n",
        "\n",
        "numero1 = int(input(\"Ingrese el primer numero: \"))\n",
        "numero2 = int(input(\"Ingrese el segundo numero: \"))\n",
        "\n",
        "if numero1 > numero2:\n",
        "    print(\"El primer numero es mayor\")"
      ],
      "metadata": {
        "colab": {
          "base_uri": "https://localhost:8080/"
        },
        "id": "ppRwP2a6m89B",
        "outputId": "991b71b5-bb9a-49c2-e578-708a644526a0"
      },
      "execution_count": 11,
      "outputs": [
        {
          "name": "stdout",
          "output_type": "stream",
          "text": [
            "Ingrese el primer numero: 3\n",
            "Ingrese el segundo numero: 3\n"
          ]
        }
      ]
    },
    {
      "cell_type": "code",
      "source": [
        "# Escribe un programa que reciba una calificacion (0-100) e indique si es aprobado (>=60) o Reprobado\n",
        "\n",
        "calificacion = int(input(\"Ingrese su calificacion: \"))\n",
        "\n",
        "if calificacion >= 60:\n",
        "    print(\"Aprobado\")\n",
        "else:\n",
        "    print(\"Reprobado\")"
      ],
      "metadata": {
        "colab": {
          "base_uri": "https://localhost:8080/"
        },
        "id": "IqZstNfYnCuz",
        "outputId": "956d6bae-a368-4b5d-ae6d-3edff850f8c7"
      },
      "execution_count": 12,
      "outputs": [
        {
          "output_type": "stream",
          "name": "stdout",
          "text": [
            "Ingrese su calificacion: 3\n",
            "Reprobado\n"
          ]
        }
      ]
    },
    {
      "cell_type": "code",
      "source": [
        "# Escribe un programa que determine si un numero es par o impar\n",
        "\n",
        "numero = int(input(\"Ingrese un numero: \"))\n",
        "\n",
        "if numero % 2 == 0:\n",
        "    print(\"El numero es par\")\n",
        "else:\n",
        "    print(\"El numero es impar\")\n",
        "#"
      ],
      "metadata": {
        "colab": {
          "base_uri": "https://localhost:8080/"
        },
        "id": "_55KOFrUnCeV",
        "outputId": "341b1d48-194f-4e7e-83cf-1ce18489a76a"
      },
      "execution_count": 13,
      "outputs": [
        {
          "output_type": "stream",
          "name": "stdout",
          "text": [
            "Ingrese un numero: 3\n",
            "El numero es impar\n"
          ]
        }
      ]
    },
    {
      "cell_type": "code",
      "source": [
        "# Escribe un programa que reciba tres números e imprima el mayor de los tres\n",
        "\n",
        "x = float(input(\"Ingrese el primer numero: \"))\n",
        "y = float(input(\"Ingrese el segundo numero: \"))\n",
        "z = float(input(\"Ingrese el tercer numero: \"))\n",
        "if x >= y and x >= z:\n",
        "    print(\"El mayor es:\", x)\n",
        "elif y >= x and y >= z:\n",
        "    print(\"El mayor es:\", y)\n",
        "else:\n",
        "    print(\"El mayor es:\", z)"
      ],
      "metadata": {
        "colab": {
          "base_uri": "https://localhost:8080/"
        },
        "id": "HQK9iPkxnWie",
        "outputId": "99d90596-a05c-40e7-d254-0d18a160e83d"
      },
      "execution_count": 14,
      "outputs": [
        {
          "output_type": "stream",
          "name": "stdout",
          "text": [
            "Ingrese el primer numero: 3\n",
            "Ingrese el segundo numero: 3\n",
            "Ingrese el tercer numero: 3\n",
            "El mayor es: 3.0\n"
          ]
        }
      ]
    },
    {
      "cell_type": "code",
      "source": [
        "# Escribe un programa que reciba un año e indique si es bisiesto\n",
        "\n",
        "año = int(input(\"Ingrese un año: \"))\n",
        "if (año % 4 == 0 and año % 100 != 0) or (año % 400 == 0):\n",
        "    print(\"Es bisiesto\")\n",
        "else:\n",
        "    print(\"No es bisiesto\")"
      ],
      "metadata": {
        "colab": {
          "base_uri": "https://localhost:8080/"
        },
        "id": "2bJvockLoF5k",
        "outputId": "4c3227fb-1d1b-44ee-c199-3b83fc023ca0"
      },
      "execution_count": 15,
      "outputs": [
        {
          "output_type": "stream",
          "name": "stdout",
          "text": [
            "Ingrese un año: 3\n",
            "No es bisiesto\n"
          ]
        }
      ]
    },
    {
      "cell_type": "code",
      "source": [
        "# Escribe un programa que reciba una contraseña e indique si cumple con las siguientes reglas: más de 8 caracteres, contiene al menos un número y una letra mayúscula\n",
        "\n",
        "contraseña = input(\"Ingresa una contraseña: \")\n",
        "if len(contraseña) > 8 and any(c.isdigit() for c in contraseña) and any(c.isupper() for c in contraseña):\n",
        "    print(\"Contraseña valida\")\n",
        "else:\n",
        "    print(\"Contraseña invalida\")"
      ],
      "metadata": {
        "colab": {
          "base_uri": "https://localhost:8080/"
        },
        "id": "p7qdvSOpoWOK",
        "outputId": "7f8e96da-2b7f-4047-bfd4-f6e73440d897"
      },
      "execution_count": 16,
      "outputs": [
        {
          "output_type": "stream",
          "name": "stdout",
          "text": [
            "Ingresa una contraseña: 3\n",
            "Contraseña invalida\n"
          ]
        }
      ]
    },
    {
      "cell_type": "code",
      "source": [
        "# Escribe un programa que lea un número e imprima “Fizz” si es divisible por 3, “Buzz” si es divisible por 5 y “FizzBuzz” si es divisible por ambos\n",
        "\n",
        "numero = int(input(\"Ingrese un numero: \"))\n",
        "if numero % 3 == 0 and numero % 5 == 0:\n",
        "    print(\"FizzBuzz\")\n",
        "elif numero % 3 == 0:\n",
        "    print(\"Fizz\")\n",
        "elif numero % 5 == 0:\n",
        "    print(\"Buzz\")\n",
        "else:\n",
        "    print(numero)"
      ],
      "metadata": {
        "colab": {
          "base_uri": "https://localhost:8080/"
        },
        "id": "zBwsNKyaoomp",
        "outputId": "cbc46ba5-a584-4443-f627-0ce5845e5396"
      },
      "execution_count": 17,
      "outputs": [
        {
          "output_type": "stream",
          "name": "stdout",
          "text": [
            "Ingrese un numero: 3\n",
            "Fizz\n"
          ]
        }
      ]
    },
    {
      "cell_type": "code",
      "source": [
        "# Escribe un programa que simule un cajero automático: recibe el monto a retirar e imprime si la operación es posible en base al saldo disponible\n",
        "\n",
        "saldo = 1000\n",
        "retiro = float(input(\"Monto a retirar: \"))\n",
        "if retiro <= saldo:\n",
        "    print(\"Retiro exitoso, Saldo restante:\", saldo - retiro)\n",
        "else:\n",
        "    print(\"Saldo insuficiente :(\")\n",
        "\n"
      ],
      "metadata": {
        "colab": {
          "base_uri": "https://localhost:8080/"
        },
        "id": "769FiUhwo0w7",
        "outputId": "5640b193-54f6-46b3-b11c-287f29d63cec"
      },
      "execution_count": 18,
      "outputs": [
        {
          "output_type": "stream",
          "name": "stdout",
          "text": [
            "Monto a retirar: 3\n",
            "Retiro exitoso, Saldo restante: 997.0\n"
          ]
        }
      ]
    },
    {
      "cell_type": "markdown",
      "source": [
        "# Parte 2: Estructuras de Repetición (10 ejercicios)"
      ],
      "metadata": {
        "id": "VJ3TYVSBpCHi"
      }
    },
    {
      "cell_type": "code",
      "source": [
        "# Escribe un programa que imprima los números del 1 al 10\n",
        "\n",
        "for i in range(1, 11):\n",
        "    print(i)"
      ],
      "metadata": {
        "colab": {
          "base_uri": "https://localhost:8080/"
        },
        "id": "My1druWZpLtu",
        "outputId": "93539035-0686-4a32-f6f4-5b14f4ef6af8"
      },
      "execution_count": 19,
      "outputs": [
        {
          "output_type": "stream",
          "name": "stdout",
          "text": [
            "1\n",
            "2\n",
            "3\n",
            "4\n",
            "5\n",
            "6\n",
            "7\n",
            "8\n",
            "9\n",
            "10\n"
          ]
        }
      ]
    },
    {
      "cell_type": "code",
      "source": [
        "# Escribe un programa que sume los números del 1 al 100\n",
        "\n",
        "suma = 0\n",
        "for i in range(1, 101):\n",
        "    suma += i\n",
        "print(suma)"
      ],
      "metadata": {
        "colab": {
          "base_uri": "https://localhost:8080/"
        },
        "id": "TgoJb2eapSV0",
        "outputId": "8dade633-8b3e-4746-c35e-c91310378efe"
      },
      "execution_count": 20,
      "outputs": [
        {
          "output_type": "stream",
          "name": "stdout",
          "text": [
            "5050\n"
          ]
        }
      ]
    },
    {
      "cell_type": "code",
      "source": [
        "# Escribe un programa que imprima los múltiplos de 3 entre 1 y 30\n",
        "\n",
        "for i in range(1, 31):\n",
        "    if i % 3 == 0:\n",
        "        print(i)"
      ],
      "metadata": {
        "colab": {
          "base_uri": "https://localhost:8080/"
        },
        "id": "UC0WuIpppUoE",
        "outputId": "5fc39e06-0628-4939-c267-5dcb025a1bdd"
      },
      "execution_count": 21,
      "outputs": [
        {
          "output_type": "stream",
          "name": "stdout",
          "text": [
            "3\n",
            "6\n",
            "9\n",
            "12\n",
            "15\n",
            "18\n",
            "21\n",
            "24\n",
            "27\n",
            "30\n"
          ]
        }
      ]
    },
    {
      "cell_type": "code",
      "source": [
        "# Escribe un programa que lea un número e imprima su tabla de multiplicar del 1 al 10\n",
        "\n",
        "n = int(input(\"Ingrese un numero: \"))\n",
        "for i in range(1, 11):\n",
        "    print(n, \"x\", i, \"=\", n * i)"
      ],
      "metadata": {
        "colab": {
          "base_uri": "https://localhost:8080/"
        },
        "id": "lrC7Yi7PpWQf",
        "outputId": "9de8eded-653f-48ad-ef68-a0ced44cb7eb"
      },
      "execution_count": 22,
      "outputs": [
        {
          "output_type": "stream",
          "name": "stdout",
          "text": [
            "Ingrese un numero: 3\n",
            "3 x 1 = 3\n",
            "3 x 2 = 6\n",
            "3 x 3 = 9\n",
            "3 x 4 = 12\n",
            "3 x 5 = 15\n",
            "3 x 6 = 18\n",
            "3 x 7 = 21\n",
            "3 x 8 = 24\n",
            "3 x 9 = 27\n",
            "3 x 10 = 30\n"
          ]
        }
      ]
    },
    {
      "cell_type": "code",
      "source": [
        "# Escribe un programa que pida 5 números al usuario y calcule el promedio\n",
        "\n",
        "suma = 0\n",
        "for i in range(5):\n",
        "    num = float(input(\"Ingrese un numero: \"))\n",
        "    suma += num\n",
        "print(\"Promedio:\", suma / 5)"
      ],
      "metadata": {
        "colab": {
          "base_uri": "https://localhost:8080/"
        },
        "id": "hS4enbOApYLz",
        "outputId": "eca2dd99-738e-4fcc-a9ae-9ad45486cc11"
      },
      "execution_count": 23,
      "outputs": [
        {
          "output_type": "stream",
          "name": "stdout",
          "text": [
            "Ingrese un numero: 3\n",
            "Ingrese un numero: 3\n",
            "Ingrese un numero: 3\n",
            "Ingrese un numero: 3\n",
            "Ingrese un numero: 3\n",
            "Promedio: 3.0\n"
          ]
        }
      ]
    },
    {
      "cell_type": "code",
      "source": [
        "# Escribe un programa que cuente cuántos números pares hay entre 1 y un número ingresado\n",
        "\n",
        "limite = int(input(\"Ingrese un numero: \"))\n",
        "contador = 0\n",
        "for i in range(1, limite + 1):\n",
        "    if i % 2 == 0:\n",
        "        contador += 1\n",
        "print(\"Cantidad de pares:\", contador)"
      ],
      "metadata": {
        "colab": {
          "base_uri": "https://localhost:8080/"
        },
        "id": "Slu_BqxNpab3",
        "outputId": "33cdd05d-3f4b-440d-d0f5-721321342a62"
      },
      "execution_count": 24,
      "outputs": [
        {
          "output_type": "stream",
          "name": "stdout",
          "text": [
            "Ingrese un numero: 3\n",
            "Cantidad de pares: 1\n"
          ]
        }
      ]
    },
    {
      "cell_type": "code",
      "source": [
        "# Escribe un programa que solicite contraseñas hasta que el usuario ingrese una válida, formada por su apellido y la longitud de su apellido (“Espinosa8”, por ejemplo)\n",
        "\n",
        "apellido = input(\"Ingrese tu apellido: \")\n",
        "valida = apellido + str(len(apellido))\n",
        "while True:\n",
        "    contra = input(\"Ingrese la contraseña: \")\n",
        "    if contra == valida:\n",
        "        print(\"Contraseñe correcta\")\n",
        "        break\n",
        "    else:\n",
        "        print(\"ES Incorrecta, intente de nuevo\")"
      ],
      "metadata": {
        "colab": {
          "base_uri": "https://localhost:8080/"
        },
        "id": "IpNUJwJCpnzM",
        "outputId": "324fc711-4670-40a0-c7da-b9978b6af10f"
      },
      "execution_count": 25,
      "outputs": [
        {
          "output_type": "stream",
          "name": "stdout",
          "text": [
            "Ingrese tu apellido: d\n",
            "Ingrese la contraseña: d\n",
            "ES Incorrecta, intente de nuevo\n",
            "Ingrese la contraseña: j\n",
            "ES Incorrecta, intente de nuevo\n",
            "Ingrese la contraseña: j1\n",
            "ES Incorrecta, intente de nuevo\n",
            "Ingrese la contraseña: d1\n",
            "Contraseñe correcta\n"
          ]
        }
      ]
    },
    {
      "cell_type": "code",
      "source": [
        "# Escribe un programa que imprima los primeros n números de la serie de Fibonacci\n",
        "\n",
        "n = int(input(\"Cantidad de números de Fibonacci: \"))\n",
        "a, b = 0, 1\n",
        "for _ in range(n):\n",
        "    print(a)\n",
        "    a, b = b, a + b"
      ],
      "metadata": {
        "colab": {
          "base_uri": "https://localhost:8080/"
        },
        "id": "31VdkrszppCC",
        "outputId": "6bebc8e0-5abc-4e18-a631-48d5da8db50d"
      },
      "execution_count": 26,
      "outputs": [
        {
          "output_type": "stream",
          "name": "stdout",
          "text": [
            "Cantidad de números de Fibonacci: 4\n",
            "0\n",
            "1\n",
            "1\n",
            "2\n"
          ]
        }
      ]
    },
    {
      "cell_type": "code",
      "source": [
        "# Escribe un programa que determine si un número ingresado es primo\n",
        "\n",
        "n = int(input(\"Ingrese un numero: \"))\n",
        "es_primo = True\n",
        "if n <= 1:\n",
        "    es_primo = False\n",
        "else:\n",
        "    for i in range(2, int(n**0.5) + 1):\n",
        "        if n % i == 0:\n",
        "            es_primo = False\n",
        "            break\n",
        "print(\"Es primo\" if es_primo else \"No es primo\")"
      ],
      "metadata": {
        "colab": {
          "base_uri": "https://localhost:8080/"
        },
        "id": "ll7bVP8tpt5d",
        "outputId": "c3a8762b-994c-4fb4-d768-164f5c160371"
      },
      "execution_count": 27,
      "outputs": [
        {
          "output_type": "stream",
          "name": "stdout",
          "text": [
            "Ingrese un numero: 4\n",
            "No es primo\n"
          ]
        }
      ]
    },
    {
      "cell_type": "code",
      "source": [
        "# Escribe un programa que pida una cantidad y luego ingrese esa cantidad de números, imprima cuántos son positivos, negativos y ceros\n",
        "\n",
        "cant = int(input(\"¿Cuantos numeros ingresara?\"))\n",
        "pos = neg = ceros = 0\n",
        "for _ in range(cant):\n",
        "    num = float(input(\"Numero: \"))\n",
        "    if num > 0:\n",
        "        pos += 1\n",
        "    elif num < 0:\n",
        "        neg += 1\n",
        "    else:\n",
        "        ceros += 1\n",
        "print(\"Positivos:\", pos, \"Negativos:\", neg, \"Ceros:\", ceros)"
      ],
      "metadata": {
        "colab": {
          "base_uri": "https://localhost:8080/"
        },
        "id": "wsmZKntjpvm6",
        "outputId": "20979a23-5131-4ff8-c555-f885d4813030"
      },
      "execution_count": 28,
      "outputs": [
        {
          "output_type": "stream",
          "name": "stdout",
          "text": [
            "¿Cuantos numeros ingresara?4\n",
            "Numero: 4\n",
            "Numero: 4\n",
            "Numero: 4\n",
            "Numero: 4\n",
            "Positivos: 4 Negativos: 0 Ceros: 0\n"
          ]
        }
      ]
    },
    {
      "cell_type": "markdown",
      "source": [
        "# Parte 3: Funciones y Tipos de Datos (20 ejercicios)\n",
        "\n",
        "## Nota del estudiante: Me están pidiendo unicamente funcion asi que no imprimo nada, solo la creo y ya, gracias"
      ],
      "metadata": {
        "id": "uQiE7vBjqZ2C"
      }
    },
    {
      "cell_type": "code",
      "source": [
        "# Crea una función que reciba un número y retorne su cuadrado\n",
        "\n",
        "def cuadrado(n):\n",
        "    return n * n"
      ],
      "metadata": {
        "id": "7rOLBsizqand"
      },
      "execution_count": 29,
      "outputs": []
    },
    {
      "cell_type": "code",
      "source": [
        "# Crea una función que reciba un nombre y retorne un saludo personalizado (ese saludo debe ser aleatorio. Para ello, genere al menos 20 saludos)\n",
        "\n",
        "import random\n",
        "def saludo(nombre):\n",
        "    saludos = [f\"hola {nombre}\" for _ in range(20)]\n",
        "    return random.choice(saludos)"
      ],
      "metadata": {
        "id": "VzxW4RJ-qdKE"
      },
      "execution_count": 30,
      "outputs": []
    },
    {
      "cell_type": "code",
      "source": [
        "# Crea una función que reciba dos números y retorne su suma, resta, multiplicación y división\n",
        "\n",
        "def operaciones(a, b):\n",
        "    return a + b, a - b, a * b, a / b"
      ],
      "metadata": {
        "id": "a1w2EXT2qsw2"
      },
      "execution_count": 31,
      "outputs": []
    },
    {
      "cell_type": "code",
      "source": [
        "# Crea una función que reciba una edad y retorne si es mayor de edad.\n",
        "\n",
        "def mayor_edad(edad):\n",
        "    return edad >= 18"
      ],
      "metadata": {
        "id": "4DH2L87Squ7r"
      },
      "execution_count": 32,
      "outputs": []
    },
    {
      "cell_type": "code",
      "source": [
        "# Crea una función que reciba una palabra y determine si es un palíndromo\n",
        "\n",
        "def es_palindromo(palabra):\n",
        "    return palabra == palabra[::-1]"
      ],
      "metadata": {
        "id": "_v937u_NqwbH"
      },
      "execution_count": 33,
      "outputs": []
    },
    {
      "cell_type": "code",
      "source": [
        "# Crea una función que reciba un texto y retorne cuántas vocales contiene\n",
        "\n",
        "def contar_vocales(texto):\n",
        "    return sum(1 for c in texto.lower() if c in \"aeiou\")"
      ],
      "metadata": {
        "id": "2evPyZSoqzxe"
      },
      "execution_count": 34,
      "outputs": []
    },
    {
      "cell_type": "code",
      "source": [
        "# Crea una función que reciba una lista de números y retorne la suma total\n",
        "\n",
        "def suma_lista(lista):\n",
        "    return sum(lista)"
      ],
      "metadata": {
        "id": "tKKV8pVErVkE"
      },
      "execution_count": 35,
      "outputs": []
    },
    {
      "cell_type": "code",
      "source": [
        "# Crea una función que reciba una lista y retorne el mayor y el menor elemento\n",
        "\n",
        "def mayor_menor(lista):\n",
        "    return max(lista), min(lista)"
      ],
      "metadata": {
        "id": "cImxlSVZrWXP"
      },
      "execution_count": 36,
      "outputs": []
    },
    {
      "cell_type": "code",
      "source": [
        "# Crea una función que reciba una lista y retorne una nueva lista con los elementos en orden inverso\n",
        "\n",
        "def lista_inversa(lista):\n",
        "    return lista[::-1]"
      ],
      "metadata": {
        "id": "Bku-2WyPrX4Y"
      },
      "execution_count": 37,
      "outputs": []
    },
    {
      "cell_type": "code",
      "source": [
        "# Crea una función que reciba una lista de nombres y retorne cuántos nombres comienzan con vocal\n",
        "\n",
        "def nombres_con_vocal(lista):\n",
        "    return sum(1 for nombre in lista if nombre[0].lower() in \"aeiou\")"
      ],
      "metadata": {
        "id": "SDWAIRfYrfbG"
      },
      "execution_count": 38,
      "outputs": []
    },
    {
      "cell_type": "code",
      "source": [
        "# Crea una función que reciba una lista y retorne otra lista sin elementos repetidos\n",
        "\n",
        "def sin_repetidos(lista):\n",
        "    return list(set(lista))"
      ],
      "metadata": {
        "id": "fE_kAcnrrpcH"
      },
      "execution_count": 39,
      "outputs": []
    },
    {
      "cell_type": "code",
      "source": [
        "# Crea una función que reciba una lista de números y retorne solo los que son primos\n",
        "\n"
      ],
      "metadata": {
        "id": "DD39Uxonrquo"
      },
      "execution_count": 40,
      "outputs": []
    },
    {
      "cell_type": "code",
      "source": [
        "# Crea una función que reciba un diccionario con claves 'nombre' y 'edad', y retorne un mensaje con esos datos\n",
        "\n",
        "def mensaje_persona(dic):\n",
        "    return f\"nombre: {dic['nombre']}, edad: {dic['edad']}\""
      ],
      "metadata": {
        "id": "QR9h1BZrrsH9"
      },
      "execution_count": 41,
      "outputs": []
    },
    {
      "cell_type": "code",
      "source": [
        "# Crea una función que reciba un diccionario de productos (clave: nombre, valor: precio) y retorne el total\n",
        "\n",
        "def total_productos(dic):\n",
        "    return sum(dic.values())"
      ],
      "metadata": {
        "id": "xBYper9-rztI"
      },
      "execution_count": 42,
      "outputs": []
    },
    {
      "cell_type": "code",
      "source": [
        "# Crea una función que reciba un diccionario de estudiantes (clave: nombre, valor: nota) y retorne el promedio\n",
        "\n",
        "def promedio_notas(dic):\n",
        "    return sum(dic.values()) / len(dic)"
      ],
      "metadata": {
        "id": "Rvfgrekzr0_F"
      },
      "execution_count": 43,
      "outputs": []
    },
    {
      "cell_type": "code",
      "source": [
        "# Crea una función que reciba un diccionario y un nombre, y retorne la nota si existe o 'no encontrado'\n",
        "\n",
        "def buscar_nota(dic, nombre):\n",
        "    return dic.get(nombre, \"no encontrado\")"
      ],
      "metadata": {
        "id": "feAp3x1Fr258"
      },
      "execution_count": 44,
      "outputs": []
    },
    {
      "cell_type": "code",
      "source": [
        "# Crea una función que reciba un diccionario y retorne el nombre del estudiante con mayor nota\n",
        "\n",
        "def mayor_nota(dic):\n",
        "    return max(dic, key=dic.get)"
      ],
      "metadata": {
        "id": "nZ7XD-fvr4PF"
      },
      "execution_count": 45,
      "outputs": []
    },
    {
      "cell_type": "code",
      "source": [
        "# Crea una función que reciba un diccionario de productos y retorne los productos con precios mayores a un valor dado\n",
        "\n"
      ],
      "metadata": {
        "id": "kpCWXokYr7fw"
      },
      "execution_count": 46,
      "outputs": []
    },
    {
      "cell_type": "code",
      "source": [
        "# Crea una función que reciba un diccionario de empleados (clave: nombre, valor: lista de horas trabajadas) y retorne el total de horas por empleado\n",
        "\n"
      ],
      "metadata": {
        "id": "nyEM6pNqr85o"
      },
      "execution_count": 47,
      "outputs": []
    },
    {
      "cell_type": "code",
      "source": [
        "# Crea una función que reciba un diccionario anidado con datos de estudiantes (nombre → {'nota': x, 'edad': y}) y retorne el promedio de notas de los mayores de edad\n",
        "\n",
        "def promedio_mayores(dic):\n",
        "    mayores = [v['nota'] for v in dic.values() if v['edad'] >= 18]\n",
        "    return sum(mayores) / len(mayores) if mayores else 0"
      ],
      "metadata": {
        "id": "GyflmaRSr-m3"
      },
      "execution_count": 48,
      "outputs": []
    }
  ]
}