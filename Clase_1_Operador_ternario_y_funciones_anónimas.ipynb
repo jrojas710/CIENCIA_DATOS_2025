{
  "nbformat": 4,
  "nbformat_minor": 0,
  "metadata": {
    "colab": {
      "provenance": [],
      "authorship_tag": "ABX9TyPfxqsPbJqbrvDwor8Rdpz8"
    },
    "kernelspec": {
      "name": "python3",
      "display_name": "Python 3"
    },
    "language_info": {
      "name": "python"
    }
  },
  "cells": [
    {
      "cell_type": "markdown",
      "source": [
        "# Operador ternario\n",
        "Es otra forma de declarar la estructura condicional\n",
        "Estructura condicional\n",
        "```\n",
        "if (condicion):\n",
        "  Rta si la condición es verdadera\n",
        "else:\n",
        "  Rta si la condición es falsa\n",
        "```\n",
        "Operador ternario\n",
        "```\n",
        "Rta si es verdadero if (condición) else\n",
        "Rta si es falso\n",
        "```"
      ],
      "metadata": {
        "id": "eLDA51uvH1k1"
      }
    },
    {
      "cell_type": "code",
      "source": [
        "# Ejemplo\n",
        "# Conocer cuál es el mayor de dos números\n",
        "a = int(input(\"Ingrese un valor: \"))\n",
        "b = int(input(\"Ingrese un valor: \"))"
      ],
      "metadata": {
        "colab": {
          "base_uri": "https://localhost:8080/"
        },
        "id": "zMCpyqWU1gKm",
        "outputId": "4058f558-857a-45a3-c177-d59a55c07faf"
      },
      "execution_count": 14,
      "outputs": [
        {
          "name": "stdout",
          "output_type": "stream",
          "text": [
            "Ingrese un valor: 1\n",
            "Ingrese un valor: 1\n"
          ]
        }
      ]
    },
    {
      "cell_type": "code",
      "source": [
        "if a > b:\n",
        "  print(f\"{a} es mayor que {b}\")\n",
        "else:\n",
        "  print(f\"{b} es mayor que {a}\")"
      ],
      "metadata": {
        "colab": {
          "base_uri": "https://localhost:8080/"
        },
        "id": "3v3Mf9no12Sl",
        "outputId": "3184adda-e070-4600-a5ff-3dbc4250ef0f"
      },
      "execution_count": 15,
      "outputs": [
        {
          "output_type": "stream",
          "name": "stdout",
          "text": [
            "1 es mayor que 1\n"
          ]
        }
      ]
    },
    {
      "cell_type": "code",
      "source": [
        "# Operador ternario\n",
        "msg = f\"{a} es mayor que {b}\" if a > b else f\"{b} es mayor que {a}\"\n",
        "print(msg)"
      ],
      "metadata": {
        "colab": {
          "base_uri": "https://localhost:8080/"
        },
        "id": "jpyVi5Pv2BsV",
        "outputId": "d5914406-603e-44a7-cadc-aa13ae72ede7"
      },
      "execution_count": 16,
      "outputs": [
        {
          "output_type": "stream",
          "name": "stdout",
          "text": [
            "1 es mayor que 1\n"
          ]
        }
      ]
    },
    {
      "cell_type": "markdown",
      "source": [
        "# FUNCIONES\n",
        "\n",
        "1. Funciones / Métodos\n",
        "2. Funciones anónimas"
      ],
      "metadata": {
        "id": "OVtDtNRn3grb"
      }
    },
    {
      "cell_type": "markdown",
      "source": [
        "## Funciones\n",
        "Declarando una función\n",
        "```\n",
        "def (nombre_de_la_función)(parámetros de la función):\n",
        "  Adentro va lo que se va a ejecutar\n",
        "```\n",
        "  1. Sin parámetro, sin retorno\n",
        "  2. Sin parámetro, con retorno\n",
        "  3. Con parámetro, sin retorno\n",
        "  4. Con parámetro, con retorno"
      ],
      "metadata": {
        "id": "nfyrxJkg3l90"
      }
    },
    {
      "cell_type": "markdown",
      "source": [
        "### 1. Sin parámetro, sin retorno"
      ],
      "metadata": {
        "id": "ucmPlMeX48ui"
      }
    },
    {
      "cell_type": "code",
      "source": [
        "print(\"Hola mundo\")"
      ],
      "metadata": {
        "colab": {
          "base_uri": "https://localhost:8080/"
        },
        "id": "Pm_VMvY94_oi",
        "outputId": "20d15253-ce09-435e-9535-68c28d7747e4"
      },
      "execution_count": 17,
      "outputs": [
        {
          "output_type": "stream",
          "name": "stdout",
          "text": [
            "Hola mundo\n"
          ]
        }
      ]
    },
    {
      "cell_type": "code",
      "source": [
        "def saludo():\n",
        "  print(\"Hola mundo\")"
      ],
      "metadata": {
        "id": "F23LvMK45B-K"
      },
      "execution_count": 18,
      "outputs": []
    },
    {
      "cell_type": "markdown",
      "source": [
        "### 2. Sin parámetro, con retorno\n",
        "Cuando necesito realizar una operación, convertir variable local en global"
      ],
      "metadata": {
        "id": "W_kWtYIH5FDy"
      }
    },
    {
      "cell_type": "code",
      "source": [
        "def numero():\n",
        "  return 4+5\n",
        "\n",
        "c = numero()\n",
        "c"
      ],
      "metadata": {
        "colab": {
          "base_uri": "https://localhost:8080/"
        },
        "id": "xRv3RlzR5KC6",
        "outputId": "499b4c53-bb2e-4a46-aa63-48f92aa086e8"
      },
      "execution_count": 19,
      "outputs": [
        {
          "output_type": "execute_result",
          "data": {
            "text/plain": [
              "9"
            ]
          },
          "metadata": {},
          "execution_count": 19
        }
      ]
    },
    {
      "cell_type": "code",
      "source": [
        "def numero2():\n",
        "  d = 4+5 # Variable local"
      ],
      "metadata": {
        "id": "5zSyXc9z520p"
      },
      "execution_count": 20,
      "outputs": []
    },
    {
      "cell_type": "code",
      "source": [
        "f = numero2()\n",
        "f"
      ],
      "metadata": {
        "id": "Fmhbzp9k6uHB"
      },
      "execution_count": 21,
      "outputs": []
    },
    {
      "cell_type": "markdown",
      "source": [
        "# 3. Con parámetro, sin retorno"
      ],
      "metadata": {
        "id": "-ryQYjFb6wq5"
      }
    },
    {
      "cell_type": "code",
      "source": [
        "def cuadrado(a): print(a**2)\n",
        "cuadrado(5)"
      ],
      "metadata": {
        "colab": {
          "base_uri": "https://localhost:8080/"
        },
        "id": "VmEoyluF60Gx",
        "outputId": "23544e2f-6c9f-472c-8b3e-f412439d3d77"
      },
      "execution_count": 22,
      "outputs": [
        {
          "output_type": "stream",
          "name": "stdout",
          "text": [
            "25\n"
          ]
        }
      ]
    },
    {
      "cell_type": "markdown",
      "source": [
        "# 4. Con parámetro con retorno"
      ],
      "metadata": {
        "id": "Lze0_R_064b4"
      }
    },
    {
      "cell_type": "code",
      "source": [
        "def cubo(b): return (b**3)\n",
        "a = cubo(6)\n",
        "a"
      ],
      "metadata": {
        "colab": {
          "base_uri": "https://localhost:8080/"
        },
        "id": "eDCb5e1g685I",
        "outputId": "f1d75b6e-efe0-4781-fd85-6529b78009d3"
      },
      "execution_count": 23,
      "outputs": [
        {
          "output_type": "execute_result",
          "data": {
            "text/plain": [
              "216"
            ]
          },
          "metadata": {},
          "execution_count": 23
        }
      ]
    },
    {
      "cell_type": "code",
      "source": [
        "def comparar(a,b):\n",
        "  return f\"{a} es mayor que {b}\" if a > b else f\"{b} es mayor que {a}\""
      ],
      "metadata": {
        "id": "7R5GHWAi7mR4"
      },
      "execution_count": 24,
      "outputs": []
    },
    {
      "cell_type": "markdown",
      "source": [
        "### Funciones anónimas o LAMBDA\n",
        "\n",
        "1. Fáciles y son rápidas\n",
        "2. No necesitan la palabra clave def\n",
        "3. **Se pueden emplear n parámetros pero sólo se puede ejecutar una función por ves\"\"\n",
        "\n",
        "Declarando una función anónima\n",
        "```\n",
        "variable = lambda (parámetro), función del parámetro\n",
        "```"
      ],
      "metadata": {
        "id": "_UFSH6c4Fzo_"
      }
    },
    {
      "cell_type": "code",
      "source": [
        "# Ejemplo: Cálculo de cudrado de un número\n",
        "cuadrado2 = lambda a: a**2\n",
        "cuadrado2(4)"
      ],
      "metadata": {
        "colab": {
          "base_uri": "https://localhost:8080/"
        },
        "id": "FKLdHKHqGJIv",
        "outputId": "d4df4096-d59a-47fb-e829-90e497fb11e7"
      },
      "execution_count": 25,
      "outputs": [
        {
          "output_type": "execute_result",
          "data": {
            "text/plain": [
              "16"
            ]
          },
          "metadata": {},
          "execution_count": 25
        }
      ]
    },
    {
      "cell_type": "code",
      "source": [
        "# Ejemplo 2: Calcular el área de un rectángulo\n",
        "area_rect = lambda base, altura: base*altura\n",
        "area_rect(1,2)"
      ],
      "metadata": {
        "colab": {
          "base_uri": "https://localhost:8080/"
        },
        "id": "wx_gnXfPGom-",
        "outputId": "28263c92-44a9-427f-abb8-049871a8afb9"
      },
      "execution_count": 26,
      "outputs": [
        {
          "output_type": "execute_result",
          "data": {
            "text/plain": [
              "2"
            ]
          },
          "metadata": {},
          "execution_count": 26
        }
      ]
    },
    {
      "cell_type": "code",
      "source": [
        "# Ejemplo 3: Calcular su el cudrado de un número es mayor que 10\n",
        "ejemplo3 = lambda a:print(f\"el cudrado de {a} es mayor que 10\") if a**2 > 10 else print(f\"el cudrado de {a} es menor que 10\")"
      ],
      "metadata": {
        "id": "WaXJAGaWHMrG"
      },
      "execution_count": 27,
      "outputs": []
    },
    {
      "cell_type": "code",
      "source": [
        "ejemplo3(5)"
      ],
      "metadata": {
        "colab": {
          "base_uri": "https://localhost:8080/"
        },
        "id": "eEBgYNHiHZlV",
        "outputId": "6f63d083-a763-424e-b6df-ea61c7be7468"
      },
      "execution_count": 28,
      "outputs": [
        {
          "output_type": "stream",
          "name": "stdout",
          "text": [
            "el cudrado de 5 es mayor que 10\n"
          ]
        }
      ]
    }
  ]
}